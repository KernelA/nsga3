{
 "cells": [
  {
   "cell_type": "markdown",
   "metadata": {},
   "source": [
    "# How to use"
   ]
  },
  {
   "cell_type": "markdown",
   "metadata": {},
   "source": [
    "## Import package\n",
    "\n",
    "Also you need to install [nds package](https://github.com/KernelA/nds-py)"
   ]
  },
  {
   "cell_type": "code",
   "execution_count": 1,
   "metadata": {
    "slideshow": {
     "slide_type": "slide"
    }
   },
   "outputs": [],
   "source": [
    "from pynsga3.nsga3 import NSGA3"
   ]
  },
  {
   "cell_type": "markdown",
   "metadata": {},
   "source": [
    "## Definition of a multiobjective problem"
   ]
  },
  {
   "cell_type": "markdown",
   "metadata": {},
   "source": [
    "Let's take the ZDT problems.\n",
    "\n",
    "It desribed in the paper:\n",
    "\n",
    "Zitzler E., Deb K., Thiele L. Comparison of Multiobjective Evolutionary Algorithms: Empirical Results // Evolutionary Computation. 2000. № 2 (8). C. 173–195.\n",
    "\n",
    "Or there:\n",
    "\n",
    "[Chase, N & Rademacher, Marcus & Goodman, Erik & Averill, Ron & Sidhu, Ranny. (2018). A Benchmark Study of Multi-Objective Optimization Methods.](https://www.researchgate.net/publication/242077047_A_Benchmark_Study_of_Multi-Objective_Optimization_Methods)"
   ]
  },
  {
   "cell_type": "code",
   "execution_count": 2,
   "metadata": {},
   "outputs": [],
   "source": [
    "# Import from package\n",
    "from pynsga3 import bproblem"
   ]
  },
  {
   "cell_type": "code",
   "execution_count": 3,
   "metadata": {},
   "outputs": [],
   "source": [
    "import math\n",
    "from abc import ABC, abstractmethod\n",
    "\n",
    "# All problems must inherit from bproblem.MOProblem class.\n",
    "class BaseZDT(bproblem.MOProblem):\n",
    "    def __init__(self, amount_variables):\n",
    "        assert amount_variables > 1\n",
    "        self.__lower_bounds = (0,) * amount_variables\n",
    "        self.__upper_bounds = (1,) * amount_variables\n",
    "\n",
    "    def _g(self, x):\n",
    "        return 1 + 9 / (len(self.__lower_bounds) - 1) * sum(x[1:])\n",
    "\n",
    "    @abstractmethod\n",
    "    def f1(self, x):\n",
    "        pass\n",
    "\n",
    "    @abstractmethod\n",
    "    def f2(self, x):\n",
    "        pass\n",
    "\n",
    "    # It is a mandatory implementation in the subclass.\n",
    "    # x is numpy array.\n",
    "    def eval(self, x):\n",
    "        return self.f1(x), self.f2(x)\n",
    "\n",
    "    # It is a mandatory implementation in the subclass.\n",
    "    @property\n",
    "    def amount_objs(self):\n",
    "        return 2\n",
    "\n",
    "    # It is a mandatory implementation in the subclass.\n",
    "    @property\n",
    "    def lower_bounds(self):\n",
    "        return self.__lower_bounds\n",
    "    \n",
    "    # It is a mandatory implementation in the subclass.\n",
    "    @property\n",
    "    def upper_bounds(self):\n",
    "        return self.__upper_bounds\n",
    "\n",
    "    def __str__(self):\n",
    "        return \"{0}_num_var={1}\".format(self.__class__.__name__, len(self.__lower_bounds))\n",
    "\n",
    "\n",
    "class ZDT1(BaseZDT):\n",
    "\n",
    "    def __init__(self, amount_var):\n",
    "        super().__init__(amount_var)\n",
    "\n",
    "    def f1(self, x):\n",
    "        return x[0]\n",
    "\n",
    "    def f2(self, x):\n",
    "        g = self._g(x)\n",
    "        return g * (1 - math.sqrt(x[0] / g))\n",
    "\n",
    "\n",
    "class ZDT2(BaseZDT):\n",
    "    def __init__(self, amount_var):\n",
    "        super().__init__(amount_var)\n",
    "\n",
    "    def f1(self, x):\n",
    "        return x[0]\n",
    "\n",
    "    def f2(self, x):\n",
    "        g = self._g(x)\n",
    "        return g * (1 - (x[0] / g) ** 2)\n",
    "\n",
    "\n",
    "class ZDT3(BaseZDT):\n",
    "    def __init__(self, amount_var):\n",
    "        super().__init__(amount_var)\n",
    "\n",
    "    def f1(self, x):\n",
    "        return x[0]\n",
    "\n",
    "    def f2(self, x):\n",
    "        g = self._g(x)\n",
    "        return g * (1 - math.sqrt(x[0] / g) - x[0] / g * math.sin(10 * math.pi * x[0]))\n"
   ]
  },
  {
   "cell_type": "code",
   "execution_count": 4,
   "metadata": {},
   "outputs": [],
   "source": [
    "# Create problem\n",
    "zdt1 = ZDT1(30)"
   ]
  },
  {
   "cell_type": "markdown",
   "metadata": {},
   "source": [
    "## A crossover and mutation operator"
   ]
  },
  {
   "cell_type": "markdown",
   "metadata": {},
   "source": [
    "The NSGA3 algorithm needs a crossover and mutation operator. You can use simulated binary crossover and polynomial mutation operator from the package or create your own operators."
   ]
  },
  {
   "cell_type": "markdown",
   "metadata": {},
   "source": [
    "### Operators from the package"
   ]
  },
  {
   "cell_type": "code",
   "execution_count": 5,
   "metadata": {},
   "outputs": [],
   "source": [
    "from pynsga3.operators import sbx, polymut\n",
    "\n",
    "sbx = sbx.SBXBound(1, 10)\n",
    "pol_mut = polymut.PolynomialMutationBound(1 / len(zdt1.lower_bounds), 10)"
   ]
  },
  {
   "cell_type": "markdown",
   "metadata": {},
   "source": [
    "### Custom operators"
   ]
  },
  {
   "cell_type": "code",
   "execution_count": 6,
   "metadata": {},
   "outputs": [],
   "source": [
    "from pynsga3.operators import bcross, bmut"
   ]
  },
  {
   "cell_type": "markdown",
   "metadata": {},
   "source": [
    "All crossover operators must inherit from `bcross.CrossoverOp` class.\n",
    "\n",
    "All mutation operators must inherit from `bmut.MutationOp` class."
   ]
  },
  {
   "cell_type": "markdown",
   "metadata": {},
   "source": [
    "Let's create an arithmetic crossover operator. An operator gets all parents as numpy ndarray and must return children. "
   ]
  },
  {
   "cell_type": "code",
   "execution_count": 7,
   "metadata": {},
   "outputs": [],
   "source": [
    "from typing import Iterable\n",
    "import itertools\n",
    "import random\n",
    "\n",
    "import numpy as np\n",
    "import scipy\n",
    "\n",
    "class AriphmeticCross(bcross.CrossoverOp):\n",
    "    def __init__(self, weight: float):\n",
    "        assert 0 < weight < 1\n",
    "        self._weight = weight\n",
    "    # kwargs[\"lower_bounds\"] and kwargs[\"upper_bounds\"] is constarints.\n",
    "    # kwargs[\"iter\"] is a number of iteration.\n",
    "    def cross(self, parents: np.ndarray, **kwargs) -> Iterable[Iterable[float]]:\n",
    "        indices = np.arange(len(parents))\n",
    "        indices_par1 = np.random.choise(indices, len(parents) // 2, replace=False)\n",
    "        indices_par2 = np.setdiff1d(indices, indices_par1, assume_unique=True)\n",
    "        if len(indices_par1) != len(indices_par2):\n",
    "            indices_par2 = indices_par2[:-1]\n",
    "        parents1 = parents[indices_par1]\n",
    "        parents2 = parents[indices_par2]\n",
    "        \n",
    "        children1 = parents1 * self._weight + (1 - self._weight) * parents2\n",
    "        children2 = parents2 * self._weight + (1 - self._weight) * parents1 \n",
    "        return itertools.chain(children1, children2)"
   ]
  },
  {
   "cell_type": "markdown",
   "metadata": {},
   "source": [
    "Time to create a mutation operator. It must return `True` if a mutation was performed, otherwise `False`."
   ]
  },
  {
   "cell_type": "code",
   "execution_count": 8,
   "metadata": {},
   "outputs": [],
   "source": [
    "class SomeMutOp(bmut.MutationOp):\n",
    "    def __init__(self, prob_mut: float):\n",
    "        self._prob_mut = prob_mut\n",
    "        \n",
    "    def mutate(self, ind: np.ndarray, **kwargs) -> bool:\n",
    "        is_mutated = False\n",
    "        low_b = kwargs[\"lower_bounds\"]\n",
    "        upp_b = kwargs[\"upper_bounds\"]\n",
    "        \n",
    "        if random.uniform() < self._prob_mut:\n",
    "            is_mutated = True\n",
    "            rand_index =  np.random.choise(len(ind), 1)\n",
    "            ind[rand_index] = math.uniform(low_b[rand_indde], upp_b[rand_index])\n",
    "            \n",
    "        return is_mutated"
   ]
  },
  {
   "cell_type": "markdown",
   "metadata": {},
   "source": [
    "## Solution"
   ]
  },
  {
   "cell_type": "markdown",
   "metadata": {},
   "source": [
    "We need to create instance of NSGA3 algorithm."
   ]
  },
  {
   "cell_type": "code",
   "execution_count": 9,
   "metadata": {},
   "outputs": [],
   "source": [
    "nsga3 = NSGA3(sbx, pol_mut)"
   ]
  },
  {
   "cell_type": "code",
   "execution_count": 10,
   "metadata": {},
   "outputs": [
    {
     "name": "stdout",
     "output_type": "stream",
     "text": [
      "Iteration:  50\n",
      "Iteration:  100\n",
      "Iteration:  150\n",
      "Iteration:  200\n",
      "Iteration:  250\n"
     ]
    }
   ],
   "source": [
    "decisions, objs = nsga3.minimize(250, ZDT1(30), size_pop=200, num_ref_points=20)"
   ]
  },
  {
   "cell_type": "code",
   "execution_count": 11,
   "metadata": {},
   "outputs": [],
   "source": [
    "from matplotlib import pyplot"
   ]
  },
  {
   "cell_type": "code",
   "execution_count": 12,
   "metadata": {},
   "outputs": [],
   "source": [
    "%matplotlib inline"
   ]
  },
  {
   "cell_type": "code",
   "execution_count": 22,
   "metadata": {},
   "outputs": [
    {
     "data": {
      "image/png": "[encoded data removed]",
      "text/plain": [
       "<Figure size 1296x864 with 1 Axes>"
      ]
     },
     "metadata": {
      "needs_background": "light"
     },
     "output_type": "display_data"
    }
   ],
   "source": [
    "# The Pareto front of ZDT1.\n",
    "x =  np.linspace(0, 1, 150)\n",
    "y = 1 - np.sqrt(x)\n",
    "\n",
    "fig = pyplot.figure(figsize=(18, 12))\n",
    "ax = fig.add_subplot(111)\n",
    "ax.plot(x, y, color=\"blue\", label=\"The Pareto front\")\n",
    "ax.scatter(objs[:, 0], objs[:, 1], color=\"red\", label=\"Solution\")\n",
    "ax.set_title(\"Solution of ZDT1\")\n",
    "ax.set_xlabel(\"f1\")\n",
    "ax.set_ylabel(\"f2\")\n",
    "ax.legend()\n",
    "ax.grid(True)\n"
   ]
  },
  {
   "cell_type": "markdown",
   "metadata": {},
   "source": [
    "## The reference points"
   ]
  },
  {
   "cell_type": "markdown",
   "metadata": {},
   "source": [
    "We can see a set of reference points for the problem."
   ]
  },
  {
   "cell_type": "code",
   "execution_count": 26,
   "metadata": {},
   "outputs": [
    {
     "data": {
      "image/png": "[encoded data removed]",
      "text/plain": [
       "<Figure size 1296x864 with 1 Axes>"
      ]
     },
     "metadata": {
      "needs_background": "light"
     },
     "output_type": "display_data"
    }
   ],
   "source": [
    "ref_points = np.array([ref.fitness for ref in nsga3._ref_points])\n",
    "\n",
    "fig = pyplot.figure(figsize=(18, 12))\n",
    "ax = fig.add_subplot(111)\n",
    "ax.scatter(ref_points[:, 0], ref_points[:, 1], color=\"green\", label=\"Reference points\")\n",
    "ax.legend()\n",
    "ax.grid(True)"
   ]
  }
 ],
 "metadata": {
  "kernelspec": {
   "display_name": "Python 3",
   "language": "python",
   "name": "python3"
  },
  "language_info": {
   "codemirror_mode": {
    "name": "ipython",
    "version": 3
   },
   "file_extension": ".py",
   "mimetype": "text/x-python",
   "name": "python",
   "nbconvert_exporter": "python",
   "pygments_lexer": "ipython3",
   "version": "3.7.0"
  }
 },
 "nbformat": 4,
 "nbformat_minor": 2
}
